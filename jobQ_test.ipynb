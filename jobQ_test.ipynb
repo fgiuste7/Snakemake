{
 "cells": [
  {
   "cell_type": "code",
   "execution_count": null,
   "metadata": {},
   "outputs": [],
   "source": [
    "#import dask_jobqueue.slurm as SLURM\n",
    "from dask_jobqueue.slurm import SLURMCluster\n",
    "from dask.distributed import Client"
   ]
  },
  {
   "cell_type": "markdown",
   "metadata": {},
   "source": [
    "### Setup Cluster:"
   ]
  },
  {
   "cell_type": "code",
   "execution_count": null,
   "metadata": {},
   "outputs": [],
   "source": [
    "# Slurm output to current working directory\n",
    "cluster = SLURMCluster(\n",
    "    queue='HPG7s', # -p\n",
    "    project= \"dask_test\", # -J\n",
    "    cores=24, # --cpus-per-task\n",
    "    memory=\"60GB\", # --mem\n",
    "    walltime='2190:00:00', # 3 months\n",
    "    death_timeout=30,\n",
    "    dashboard_address=\"http://170.140.138.165:8787\",\n",
    ")"
   ]
  },
  {
   "cell_type": "code",
   "execution_count": null,
   "metadata": {},
   "outputs": [],
   "source": [
    "# Bash script for SLURM submission:\n",
    "#print(cluster.job_script())"
   ]
  },
  {
   "cell_type": "code",
   "execution_count": null,
   "metadata": {},
   "outputs": [],
   "source": [
    "cluster.scale(10) # Number of workers (Nodes in a Dask cluster, not necessarily real Nodes)\n",
    "\n",
    "#cluster.adapt(minimum=1, maximum=10)  # auto-scale between 3 and 10 workers"
   ]
  },
  {
   "cell_type": "code",
   "execution_count": null,
   "metadata": {},
   "outputs": [],
   "source": [
    "client = Client(cluster)"
   ]
  },
  {
   "cell_type": "code",
   "execution_count": null,
   "metadata": {
    "scrolled": true
   },
   "outputs": [],
   "source": [
    "client"
   ]
  },
  {
   "cell_type": "markdown",
   "metadata": {},
   "source": [
    "### Dask Run:"
   ]
  },
  {
   "cell_type": "code",
   "execution_count": null,
   "metadata": {},
   "outputs": [],
   "source": [
    "import numpy as np\n",
    "import dask.array as da\n",
    "from time import time\n",
    "\n",
    "da.random.seed(seed=1234)"
   ]
  },
  {
   "cell_type": "code",
   "execution_count": null,
   "metadata": {},
   "outputs": [],
   "source": [
    "ts = time()\n",
    "# Create Array:\n",
    "testA= da.random.random(size=(652090,652090,30), chunks=(3000,3000,30)) \n",
    "te = time()\n",
    "minutes = \"{0:.4f}\".format((te-ts)/60)\n",
    "print(\"%s minutes\" % (minutes))"
   ]
  },
  {
   "cell_type": "code",
   "execution_count": null,
   "metadata": {},
   "outputs": [],
   "source": [
    "ts = time()\n",
    "# Calculate results:\n",
    "testA_min= client.compute(da.min( testA )).result()\n",
    "#testA_min= client.compute(da.min( testA )).result()\n",
    "te = time()\n",
    "minutes = \"{0:.4f}\".format((te-ts)/60)\n",
    "print(\"%s minutes\" % (minutes))"
   ]
  },
  {
   "cell_type": "code",
   "execution_count": null,
   "metadata": {},
   "outputs": [],
   "source": [
    "testA_min"
   ]
  },
  {
   "cell_type": "markdown",
   "metadata": {},
   "source": [
    "### Record:"
   ]
  },
  {
   "cell_type": "code",
   "execution_count": null,
   "metadata": {},
   "outputs": [],
   "source": [
    "# Create: 0.1042 minutes\n",
    "# Run: 45.4863 minutes\n",
    "testA= da.random.random(size=(652090,652090,30), chunks=(6000,6000,3))\n",
    "\n",
    "# Create: 0.0715 minutes\n",
    "# Run: 43.8068 minutes\n",
    "testA= da.random.random(size=(652090,652090,30), chunks=(5000,5000,6)) \n",
    "\n",
    "# Create: 0.0412 minutes\n",
    "# Run: 43.6328 minutes\n",
    "testA= da.random.random(size=(652090,652090,30), chunks=(3000,3000,30)) "
   ]
  }
 ],
 "metadata": {
  "kernelspec": {
   "display_name": "Python 3",
   "language": "python",
   "name": "python3"
  },
  "language_info": {
   "codemirror_mode": {
    "name": "ipython",
    "version": 3
   },
   "file_extension": ".py",
   "mimetype": "text/x-python",
   "name": "python",
   "nbconvert_exporter": "python",
   "pygments_lexer": "ipython3",
   "version": "3.7.3"
  }
 },
 "nbformat": 4,
 "nbformat_minor": 2
}
